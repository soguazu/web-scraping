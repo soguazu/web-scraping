{
 "cells": [
  {
   "cell_type": "code",
   "execution_count": 128,
   "id": "d829bd99-310e-4a20-986f-4a49e6397279",
   "metadata": {},
   "outputs": [],
   "source": [
    "from bs4 import BeautifulSoup\n",
    "import pandas as pd\n",
    "import requests"
   ]
  },
  {
   "cell_type": "code",
   "execution_count": 130,
   "id": "b088f40a-7e09-4367-99a1-04f6cfbe48bc",
   "metadata": {},
   "outputs": [],
   "source": [
    "url = 'https://en.wikipedia.org/wiki/2024%E2%80%9325_Premier_League'\n",
    "response = requests.get(url)"
   ]
  },
  {
   "cell_type": "code",
   "execution_count": 140,
   "id": "1ab8d9a0-31be-4b20-a00b-a33bf51fbabf",
   "metadata": {},
   "outputs": [],
   "source": [
    "def parse_results_table_flat(table, *, numeric=False, strip_fc=False):\n",
    "    \"\"\"\n",
    "    Parse a PL home/away matrix from a <table> Tag.\n",
    "    Returns a flat list:\n",
    "      matches = [{home, away, score}] or if numeric=True -> [{home, away, home_goals, away_goals}]\n",
    "    \"\"\"\n",
    "    assert getattr(table, \"name\", None) == \"table\", \"Pass a <table> Tag\"\n",
    "\n",
    "    def clean_team(name: str) -> str:\n",
    "        name = \" \".join(name.split())\n",
    "        if strip_fc:\n",
    "            name = name.replace(\" F.C.\", \"\")\n",
    "        return name\n",
    "\n",
    "    # Header (away teams)\n",
    "    header_tr = table.find(\"thead\").find(\"tr\") if table.find(\"thead\") else table.find(\"tr\")\n",
    "    ths = header_tr.find_all(\"th\")[1:]  # skip 'Home \\\\ Away'\n",
    "    away_teams = []\n",
    "    for th in ths:\n",
    "        a = th.find(\"a\")\n",
    "        if not a: \n",
    "            continue\n",
    "        away_teams.append(clean_team(a.get(\"title\") or a.get_text(strip=True)))\n",
    "\n",
    "    # Body rows\n",
    "    tbody = table.find(\"tbody\") or table\n",
    "    rows = tbody.find_all(\"tr\")\n",
    "    if rows and rows[0] is header_tr:\n",
    "        rows = rows[1:]\n",
    "\n",
    "    matches = []\n",
    "    for tr in rows:\n",
    "        th = tr.find(\"th\")\n",
    "        if not th or not th.find(\"a\"):\n",
    "            continue\n",
    "        home = clean_team(th.find(\"a\").get(\"title\") or th.find(\"a\").get_text(strip=True))\n",
    "\n",
    "        for away, td in zip(away_teams, tr.find_all(\"td\")):\n",
    "            raw = td.get_text(\" \", strip=True)\n",
    "            if not raw:\n",
    "                continue\n",
    "            score_txt = raw.replace(\"–\", \"-\").replace(\"—\", \"-\").replace(\"−\", \"-\")\n",
    "            if score_txt == \"-\":  # diagonal blank\n",
    "                continue\n",
    "\n",
    "            if numeric:\n",
    "                parts = score_txt.split(\"-\")\n",
    "                if len(parts) != 2 or not all(p.strip().isdigit() for p in parts):\n",
    "                    continue\n",
    "                matches.append({\n",
    "                    \"home\": home, \"away\": away,\n",
    "                    \"home_goals\": int(parts[0]), \"away_goals\": int(parts[1])\n",
    "                })\n",
    "            else:\n",
    "                matches.append({\"home\": home, \"away\": away, \"score\": score_txt})\n",
    "\n",
    "    return matches\n"
   ]
  },
  {
   "cell_type": "code",
   "execution_count": 146,
   "id": "23714219-eed9-4bdd-aa0c-bacee3f9df6a",
   "metadata": {},
   "outputs": [
    {
     "name": "stdout",
     "output_type": "stream",
     "text": [
      "           home                         away score\n",
      "0  Arsenal F.C.             Aston Villa F.C.   2-2\n",
      "1  Arsenal F.C.              AFC Bournemouth   1-2\n",
      "2  Arsenal F.C.               Brentford F.C.   1-1\n",
      "3  Arsenal F.C.  Brighton & Hove Albion F.C.   1-1\n",
      "4  Arsenal F.C.                 Chelsea F.C.   1-0\n"
     ]
    }
   ],
   "source": [
    "if response.status_code == 200:\n",
    "    soup = BeautifulSoup(response.content, \"html.parser\")\n",
    "    # you already picked the sixth table:\n",
    "    result_table = soup.find_all(\"table\")[5]\n",
    "    matches = parse_results_table_flat(result_table)\n",
    "\n",
    "df = pd.DataFrame(matches)\n",
    "print(df.head())\n",
    "df.to_csv(\"premier_league_results.csv\", index=False, encoding=\"utf-8\")\n",
    "\n",
    "\n",
    "\n",
    "        "
   ]
  },
  {
   "cell_type": "code",
   "execution_count": null,
   "id": "d0c84d52-0b00-4795-a602-aebbeb3eef09",
   "metadata": {},
   "outputs": [],
   "source": []
  }
 ],
 "metadata": {
  "kernelspec": {
   "display_name": "Python 3 (ipykernel)",
   "language": "python",
   "name": "python3"
  },
  "language_info": {
   "codemirror_mode": {
    "name": "ipython",
    "version": 3
   },
   "file_extension": ".py",
   "mimetype": "text/x-python",
   "name": "python",
   "nbconvert_exporter": "python",
   "pygments_lexer": "ipython3",
   "version": "3.12.7"
  }
 },
 "nbformat": 4,
 "nbformat_minor": 5
}
